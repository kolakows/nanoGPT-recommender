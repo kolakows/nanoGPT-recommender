{
 "cells": [
  {
   "cell_type": "code",
   "execution_count": 1,
   "id": "48434afb",
   "metadata": {},
   "outputs": [],
   "source": [
    "import json\n",
    "import pandas as pd\n",
    "\n",
    "ratings = pd.read_csv('../data/train.csv')\n",
    "item_metadata = pd.read_csv('../data/item_metadata.csv')\n",
    "test_users = pd.read_csv('../data/test.csv')[\"user_id\"]\n",
    "mapping = json.load(open('../data/id_mappings.json'))\n",
    "\n",
    "relevant_items = set(mapping['item_mapping'].keys())\n",
    "item_metadata = item_metadata.query(\"parent_asin in @relevant_items\").reset_index(drop=True)"
   ]
  },
  {
   "cell_type": "code",
   "execution_count": 2,
   "id": "ada47448",
   "metadata": {},
   "outputs": [],
   "source": [
    "from sklearn.preprocessing import LabelEncoder\n",
    "\n",
    "le = LabelEncoder()\n",
    "ratings['item_id_enc'] = le.fit_transform(ratings['item_id'])"
   ]
  },
  {
   "cell_type": "code",
   "execution_count": null,
   "id": "a20ba5d9",
   "metadata": {},
   "outputs": [],
   "source": [
    "from PIL import Image\n",
    "from transformers import AutoProcessor, AutoModel\n",
    "import torch\n",
    "\n",
    "# model = AutoModel.from_pretrained(\"google/siglip-so400m-patch14-224\", device_map=\"cuda\" )\n",
    "# processor = AutoProcessor.from_pretrained(\"google/siglip-so400m-patch14-224\", device_map=\"cuda\")\n",
    "\n",
    "model = AutoModel.from_pretrained(\"google/siglip-base-patch16-224\", device_map=\"cuda\")\n",
    "processor = AutoProcessor.from_pretrained(\"google/siglip-base-patch16-224\", device_map=\"cuda\")"
   ]
  },
  {
   "cell_type": "code",
   "execution_count": null,
   "id": "26281fa6",
   "metadata": {},
   "outputs": [],
   "source": [
    "import os\n",
    "from tqdm import tqdm\n",
    "\n",
    "dir = \"/home/nekoneko/ML_challenge/ds_club/data/images\"\n",
    "\n",
    "imgs = os.listdir(dir)\n",
    "img_list = [f\"{dir}/{img_name}\" for img_name in imgs]\n",
    "\n",
    "all_features = []\n",
    "all_names = []\n",
    "\n",
    "for i in tqdm(range(0, len(img_list), 100)):\n",
    "    batch_paths = img_list[i:i+100]\n",
    "    batch_images = []\n",
    "    valid_paths = []\n",
    "    \n",
    "    for path in batch_paths:\n",
    "        try:\n",
    "            batch_images.append(Image.open(path).convert('RGB'))\n",
    "            valid_paths.append(path)\n",
    "        except:\n",
    "            continue\n",
    "    \n",
    "    if batch_images:\n",
    "        inputs = processor(text=None, images=batch_images, padding=\"max_length\", return_tensors=\"pt\").to(\"cuda\")\n",
    "        \n",
    "        with torch.no_grad():\n",
    "            outputs = model.get_image_features(**inputs)\n",
    "            all_features.append(outputs.cpu())\n",
    "            all_names.extend([os.path.basename(path) for path in valid_paths])\n",
    "\n",
    "# final_features = torch.cat(all_features, dim=0)"
   ]
  },
  {
   "cell_type": "code",
   "execution_count": null,
   "id": "b74e49ca",
   "metadata": {},
   "outputs": [],
   "source": [
    "torch.save({\n",
    "    'features': all_features,\n",
    "    'names': all_names\n",
    "}, 'image_features_siglip_base.pt')\n",
    "\n",
    "features_flat = []\n",
    "for f in all_features:\n",
    "    features_flat += torch.unbind(f)\n",
    "\n",
    "item_to_feature = {}\n",
    "for n, feat in zip(all_names, features_flat):\n",
    "    n = n.split('.')[0]\n",
    "    if n in mapping['item_mapping']:\n",
    "        item_to_feature[mapping['item_mapping'][n]] = feat\n",
    "\n",
    "torch.save(item_to_feature, \"item_to_siglip_feature.dict\")"
   ]
  },
  {
   "cell_type": "code",
   "execution_count": null,
   "id": "d76d4556",
   "metadata": {},
   "outputs": [],
   "source": [
    "embs_path = \"/home/nekoneko/ML_challenge/ds_club/siglip/item_to_siglip_feature.dict\"\n",
    "item_to_feature = torch.load(embs_path)"
   ]
  },
  {
   "cell_type": "code",
   "execution_count": 20,
   "id": "b3cde215",
   "metadata": {},
   "outputs": [],
   "source": [
    "bueno = []\n",
    "nonloso = []\n",
    "for item in item_to_feature.keys():\n",
    "    try:\n",
    "        bueno.append(le.transform([int(item)]))\n",
    "    except:\n",
    "        nonloso.append(item)"
   ]
  },
  {
   "cell_type": "code",
   "execution_count": 42,
   "id": "ef487737",
   "metadata": {},
   "outputs": [],
   "source": [
    "features_orderd = []\n",
    "missing_items = []\n",
    "for i in range(len(le.classes_)):\n",
    "    idx = le.inverse_transform([i])[0]\n",
    "    \n",
    "    if idx in item_to_feature:\n",
    "        feat = item_to_feature[idx]\n",
    "    else:\n",
    "        missing_items.append(idx)\n",
    "        feat = torch.randn(768)\n",
    "    features_orderd.append(feat)"
   ]
  },
  {
   "cell_type": "code",
   "execution_count": 44,
   "id": "54804099",
   "metadata": {},
   "outputs": [
    {
     "data": {
      "text/plain": [
       "12"
      ]
     },
     "execution_count": 44,
     "metadata": {},
     "output_type": "execute_result"
    }
   ],
   "source": [
    "len(missing_items)"
   ]
  },
  {
   "cell_type": "code",
   "execution_count": 47,
   "id": "e1d3de62",
   "metadata": {},
   "outputs": [],
   "source": [
    "all_features_ordered = torch.stack(features_orderd)"
   ]
  },
  {
   "cell_type": "code",
   "execution_count": 48,
   "id": "97ce2282",
   "metadata": {},
   "outputs": [
    {
     "data": {
      "text/plain": [
       "torch.Size([76747, 768])"
      ]
     },
     "execution_count": 48,
     "metadata": {},
     "output_type": "execute_result"
    }
   ],
   "source": [
    "all_features_ordered.shape"
   ]
  },
  {
   "cell_type": "code",
   "execution_count": 49,
   "id": "b274f058",
   "metadata": {},
   "outputs": [],
   "source": [
    "import torch.nn as nn\n",
    "\n",
    "\n",
    "emb = nn.Embedding.from_pretrained(all_features_ordered, freeze=True)"
   ]
  },
  {
   "cell_type": "code",
   "execution_count": 50,
   "id": "3d2ad155",
   "metadata": {},
   "outputs": [],
   "source": [
    "torch.save(emb, \"siglip_ordered_embedding.pth\")"
   ]
  },
  {
   "cell_type": "code",
   "execution_count": null,
   "id": "5b78dd38",
   "metadata": {},
   "outputs": [],
   "source": [
    "# test loading\n",
    "siglip_emb = torch.load(\"siglip_ordered_embedding.pth\", weights_only=False)"
   ]
  }
 ],
 "metadata": {
  "kernelspec": {
   "display_name": "ml",
   "language": "python",
   "name": "python3"
  },
  "language_info": {
   "codemirror_mode": {
    "name": "ipython",
    "version": 3
   },
   "file_extension": ".py",
   "mimetype": "text/x-python",
   "name": "python",
   "nbconvert_exporter": "python",
   "pygments_lexer": "ipython3",
   "version": "3.11.7"
  }
 },
 "nbformat": 4,
 "nbformat_minor": 5
}
